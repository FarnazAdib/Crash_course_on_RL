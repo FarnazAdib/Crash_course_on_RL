{
 "cells": [
  {
   "cell_type": "markdown",
   "metadata": {},
   "source": [
    "# Preparation\n",
    "Before explaining the RL routines, let's prepare your Pycharm Integrated Development Environment (IDE). To play with the cartpole example and the RL routines, we need to install a set of libraries like NumPy, TensorFlow, gym, etc and, to specify their versions. This is to get consistent results, avoid version related errors, and most importantly, avoid messing with your current libraries that you use frequently. Let's start!\n",
    "\n",
    "## Creating a virtual environment\n",
    "Follow the following steps to create a virtual environment.\n",
    "* Create a folder on your computer. Preferably NOT on the cloud and NOT in the folder related to your python project. Let's call it vir_env. There, build a new folder and name it gym.\n",
    "* Open Pycharm, click File and then setting.\n",
    "* From the left menu, select Project and then Python Interpreter.\n",
    "* Click the Python Interpreter dropdown menu and select show all.\n",
    "* Click the + sign on the right side of the window.\n",
    "* Select New environment and in the location, navigate to you the folder you just created: vir_env\\gym. Select Python 3.6 for the base interpreter. __Deselect \"inherit global site packages\"__ and __select \"make available to all projects\"__.\n",
    "\n",
    "Now, Python 3.6(gym) should appear in the Python Interpreter list. Select it!\n",
    "\n",
    "## Adding libraries and packages\n",
    "We add the required libraries to our Python 3.6(gym) environment. When adding a library, remember to specify the version. Before starting adding libraries, double check to see if Python 3.6(gym) is selected in the Python Interpreter. If it is not, click the Python Interpreter dropdown menu and select show all. Then, select Python 3.6(gym). You will see a table with headings: Package, Version, Latest version.\n",
    "\n",
    "To add a library/package, simply click the + sign on the right hand side of the table and type the name of the library. Specify the version if the default is different from what we have here. Sometimes when you install a package some extra libraries/packages are also installed. You then need to check the version of those libraries and correct them if necessary. Add the following (or double check the versions)\n",
    "\n",
    "| Package | Version | \n",
    "| :- | :- |\n",
    "| gym | 0.17.3 |\n",
    "| tensorflow | 2.3.1 |\n",
    "| numpy | 1.18.5 |\n",
    "| scipy | 1.4.1 |\n",
    "| DateTime | 4.3 |\n",
    "| ipykernel | 5.3.4|\n",
    "| matplotlib | 3.3.2|\n",
    "\n",
    "## Activating virtual environment for Jupyter notebook\n",
    "If you want to run the code in the Jupyter notebook, you need to add the virtual environment that we built to the Jupyter kernel. We do it in Pycharm.\n",
    "* Open Pycharm, click File and then setting.\n",
    "* From the left menu, select Project and then Python Interpreter.\n",
    "* Click the Python Interpreter dropdown menu and select show all.\n",
    "* Select Python 3.6(gym) and close the window.\n",
    "* In Pycharm, click Terminal which is on the low toolbar and, type the following"
   ]
  },
  {
   "cell_type": "raw",
   "metadata": {},
   "source": [
    "python -m ipykernel install --user --name=gym"
   ]
  },
  {
   "cell_type": "markdown",
   "metadata": {},
   "source": [
    "you should see"
   ]
  },
  {
   "cell_type": "raw",
   "metadata": {},
   "source": [
    "Installed kernelspec gym in C:\\User....."
   ]
  },
  {
   "cell_type": "markdown",
   "metadata": {},
   "source": [
    "# Important\n",
    "\n",
    "When you want to run the code in the Jupyter notebook\n",
    "* In the Jupter notebook toolbar, select kernel and then Change kernel.\n",
    "* select gym\n",
    "\n",
    "Now, we are good to go!"
   ]
  },
  {
   "cell_type": "code",
   "execution_count": null,
   "metadata": {},
   "outputs": [],
   "source": []
  }
 ],
 "metadata": {
  "kernelspec": {
   "display_name": "Python 3",
   "language": "python",
   "name": "python3"
  },
  "language_info": {
   "codemirror_mode": {
    "name": "ipython",
    "version": 3
   },
   "file_extension": ".py",
   "mimetype": "text/x-python",
   "name": "python",
   "nbconvert_exporter": "python",
   "pygments_lexer": "ipython3",
   "version": "3.6.5"
  }
 },
 "nbformat": 4,
 "nbformat_minor": 2
}
