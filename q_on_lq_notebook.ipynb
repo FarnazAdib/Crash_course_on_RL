{
 "cells": [
  {
   "cell_type": "markdown",
   "metadata": {},
   "source": [
    "# $Q$-learning on linear quadratic problem\n",
    "In this notebook, we run the $Q$-learning algorithm on a linear quadratic (LQ) control problem. \n",
    "* [You can read about the linear quadratic problem here](linear_quadratic.ipynb)\n",
    "* [You can read about $Q$-learning here.](q_notebook.ipynb)\n",
    "* [You can see the pure code for $Q$-learning on the LQ here.](./lq/q_on_lq.py)"
   ]
  },
  {
   "cell_type": "markdown",
   "metadata": {},
   "source": [
    "## Summary of the algorithm\n",
    "Since the dynamical system is linear and the value function is quadratic, we consider a quadratic $Q$ function as follows\n",
    "\n",
    "\\begin{align*}\n",
    "Q(s,a) =\\begin{bmatrix}\n",
    "s^T & a^T\n",
    "\\end{bmatrix}\\begin{bmatrix}\n",
    "g_{ss} & g_{sa}\\\\\n",
    "g_{sa}^T & g_{aa} \\end{bmatrix}\\begin{bmatrix}\n",
    "s\\\\a \\end{bmatrix}= z^T G z\n",
    "\\end{align*}\n",
    "where $z=\\begin{bmatrix}\n",
    "s^T & a^T\n",
    "\\end{bmatrix}^T $ and $G= \\begin{bmatrix}\n",
    "g_{ss} & g_{sa}\\\\\n",
    "g_{sa}^T & g_{aa} \\end{bmatrix}$.\n",
    "\n",
    "The policy is given by \n",
    "\n",
    "\\begin{align*}\n",
    "\\pi = -g_{aa}^{-1}g_{sa}^T \\: s = K s\n",
    "\\end{align*}\n",
    "\n",
    "We start right away by selecting a stabilizing policy (or equivalently initializing the $Q$-function such that the resulting policy is stabilizing). Selecting a stabilizing policy is crucial for convergence of Least Square Temporal Difference (LSTD) algorithms. In each iteration of the algorithm, we do the following\n",
    "\n",
    "* i. We rollout the environment using the current policy to compute the average cost.\n",
    "* ii. We rollout the environment to collect data for $Q$ learning by following these steps:\n",
    "    * ii.a. We initialize empty histories for `states=[]`, `actions=[]`, `costs=[]`, `next_states=[]`, `dones=[]`.\n",
    "    * ii.b. We observe the `state` $s$ and select the `action` $a$ according to\n",
    "    \n",
    "    `a = K @ state + stddev * np.random.randn(n_a).`\n",
    "    \n",
    "    * ii.c. We derive the environment using $a$ and observe the `cost` $c$ and the next state $s^{\\prime}$.\n",
    "    * ii.d. We add $s,\\:a,\\:c,\\:s^{\\prime}$ to the history batch `states`, `actions`, `costs`, `next_states`, `dones`.\n",
    "    * ii.e. We continue from i.b. until the episode ends.\n",
    "* iii. We estimate the quadraic kernel of the $Q$ function. Let $vecv(v)=[v_1^2,\\: 2v_1 v_2,...,2v_1 v_n,\\:v_2^2,...,\\: 2v_2 v_n,\\: ... ,v_n^2]^{T}$. The LSTD estimation of $G$ is given by\n",
    "\n",
    "\\begin{align*}\t\t\n",
    "vecs(G)= ( \\frac{1}{T}\\sum_{t=1}^{T} \\Psi_t (\\Psi_t- \\Psi_{t+1}) ^T )^{-1} ( \\frac{1}{T}\\sum_{t=1}^{T} \\Psi_t (c_t - \\lambda) ), \n",
    "\\end{align*}\n",
    "\n",
    "where $c_t$ is the running cost, $\\lambda$ is the average cost obtained in step i., $z_k = [s_k^T,\\:a_k^T]^T$,   $\\Psi_t=vecv(z_k)$ and $T$ is the rollout length. Note that, we have considered minimizing the average cost setting in the $Q$ learning. It means that $\\gamma =1$ and $r_t = c_t - \\lambda$.\n",
    "\n",
    "* iv. When the $Q$-function is estimated, the policy $\\pi$ is obtained by mathematical minimization of the function $Q(s,a)$. For the linear quadrtaic problem, the policy is given by\n",
    "\\begin{align*}\n",
    "\\pi = -g_{aa}^{-1}g_{sa}^T \\: s = K \\: s.\n",
    "\\end{align*}\n"
   ]
  },
  {
   "cell_type": "markdown",
   "metadata": {},
   "source": [
    "## Running on google colab\n",
    "If you want to run on google colab, go ahead and run the following cell. If you want to run on your computer, skip this cell and start from Importing libraries."
   ]
  },
  {
   "cell_type": "code",
   "execution_count": null,
   "metadata": {},
   "outputs": [],
   "source": [
    "!git clone https://github.com/FarnazAdib/Crash_course_on_RL.git\n",
    "%cd Crash_course_on_RL\n",
    "!pip install ."
   ]
  },
  {
   "cell_type": "markdown",
   "metadata": {},
   "source": [
    "## Importing libraries\n",
    "We start coding by importing the required libraries. If you get an error, you have possibly forgotten to change the kernel. See [Prepare a virtual environment](Preparation.ipynb)."
   ]
  },
  {
   "cell_type": "code",
   "execution_count": 1,
   "metadata": {},
   "outputs": [],
   "source": [
    "import numpy as np\n",
    "from lq.model_estimation import MODEL\n",
    "from lq.dynamics import Linear_Quadratic\n",
    "from lq.storing_matrices import Storing_Mat, Storing_Mat_opt\n",
    "from lq.pltlib import PLTLIB\n",
    "import scipy.linalg as LA\n",
    "from lq.policies import LinK\n",
    "from lq.funlib import GtoP, vecv, SquareMat, inst_variable"
   ]
  },
  {
   "cell_type": "markdown",
   "metadata": {},
   "source": [
    "## Making the environment\n",
    "We select the random seed and make the linear quadratic problem. We also initialize the controller gain `K0`.\n"
   ]
  },
  {
   "cell_type": "code",
   "execution_count": 2,
   "metadata": {},
   "outputs": [],
   "source": [
    "rand_seed = 1\n",
    "np.random.seed(rand_seed)\n",
    "A = np.array([[1.0, 1.0], [0.0, 1.0]])\n",
    "B = np.array([[0.0], [1.0]])\n",
    "x0 = np.array([[-1.0, 0.0]], dtype='float32')\n",
    "ep = 0.1\n",
    "Q = np.array([[1, 0], [0, 1]])\n",
    "R = np.array([[1]])\n",
    "\n",
    "Mysys = Linear_Quadratic(A, B, Q, R, x0, ep)\n",
    "_, K0 = Mysys.lqr_gain(200*Mysys.Q, Mysys.R)"
   ]
  },
  {
   "cell_type": "markdown",
   "metadata": {},
   "source": [
    "## Making the $Q$-learning agent\n",
    "We define the $Q$-learning class here."
   ]
  },
  {
   "cell_type": "code",
   "execution_count": 3,
   "metadata": {},
   "outputs": [],
   "source": [
    "class Q_learning:\n",
    "    def __init__(self, sysdyn:Linear_Quadratic):\n",
    "        # self.rand_seed = 1\n",
    "        # np.random.seed(self.rand_seed)\n",
    "        self.dyn = sysdyn\n",
    "        self.n, self.m = self.dyn.B.shape\n",
    "        self.n_phi = int((self.n + self.m) * (self.n + self.m + 1) / 2)\n",
    "        self.P = np.zeros((self.n, self.n))\n",
    "\n",
    "    def ql(self, K0, N, T, explore_mag=1.0):\n",
    "        '''\n",
    "        Q learning loop to iterate over policy iteration and policy improvement\n",
    "        :param K0: The initial policy gain\n",
    "        :param N: Number of iterations\n",
    "        :param T: Trajectory length\n",
    "        :param explore_mag: The amount of randomness in Q learning\n",
    "        :return: The kernel of the value function P and the controller gain K\n",
    "        '''\n",
    "        self.K = K0\n",
    "        for k in range(N):\n",
    "\n",
    "            # If the controller is stable, do an iteration\n",
    "            if self.dyn.is_stable(self.K):\n",
    "\n",
    "                # Policy evaluaion\n",
    "                G = self.q_evaluation(T, explore_mag)\n",
    "\n",
    "                # Policy improvement\n",
    "                self.K = self.q_improvement(G)\n",
    "                P = GtoP(G, self.K)\n",
    "\n",
    "            # If the controller is not stable, return some unstable values for P and K\n",
    "            else:\n",
    "                P, self.K = self.unstable_P_and_K()\n",
    "\n",
    "        return P, self.K\n",
    "\n",
    "    def q_evaluation(self, T, explore_mag):\n",
    "        # creating the linear policy and turning sampling on\n",
    "        Lin_gain = LinK(self.K)\n",
    "        Lin_gain.make_sampling_on(explore_mag)\n",
    "\n",
    "        # Do one rollout to compute the average cost\n",
    "        _, _, r, _ = self.dyn.one_rollout(Lin_gain.lin_policy, T)\n",
    "        Lam = np.sum(r)/T\n",
    "\n",
    "        # Do one rollout to save data for Q learning\n",
    "        states, actions, costs, next_states = self.dyn.one_rollout(Lin_gain.sample_lin_policy, T)\n",
    "\n",
    "        # Making the state z and the next state z\n",
    "        z = np.concatenate((states, actions), axis=1)\n",
    "        next_z = np.concatenate((next_states, Lin_gain.lin_policy(next_states)), axis=1)\n",
    "\n",
    "        # estimating the Q parameter using instrumental variable\n",
    "        x_iv = vecv(z) - vecv(next_z)\n",
    "        y_iv = costs - Lam\n",
    "        z_iv = vecv(z)\n",
    "        q_vec = inst_variable(x_iv, y_iv, z_iv)\n",
    "        return SquareMat(q_vec, self.n+self.m)\n",
    "\n",
    "    def q_improvement(self, G):\n",
    "        return - LA.inv(G[self.dyn.n:, self.dyn.n:]) @ G[self.dyn.n:, 0:self.dyn.n]\n",
    "\n",
    "    def unstable_P_and_K(self):\n",
    "        return np.zeros((self.n, self.n)), np.zeros((self.m, self.n))\n"
   ]
  },
  {
   "cell_type": "markdown",
   "metadata": {},
   "source": [
    "We have built the $Q$-learning class. It remains to build an object from this class. You can change the following hyper parameters if you like\n",
    "\n",
    "* `T`: The trajectory length\n",
    "* `n_iteration`: Number of iterations\n",
    "* `n_batch`: Number of batches in each iteration of the optimization\n",
    "* `n_monte_carlo`: Number of monte carlo to analyze the performance of the PG\n",
    "* `explore_mag`: The amount of randomness in Q learning\n",
    "\n",
    "It would be interesting to compare the performance of the $Q$-learning algorithm with a model-building approach. In a model-building approach, we estimate $(A, B)$ by using the collected data and solve the model-based Algebraic Riccati Equation assuming that the estimated matrices are the true matrices. We have built the model-learning class and below, we build an object of this class."
   ]
  },
  {
   "cell_type": "code",
   "execution_count": 4,
   "metadata": {},
   "outputs": [],
   "source": [
    "My_q_learning = Q_learning(Mysys)\n",
    "My_model_learning = MODEL(Mysys)\n",
    "T = np.array([0, 100])\n",
    "n_iteration = 5\n",
    "n_monte_carlo = 10"
   ]
  },
  {
   "cell_type": "markdown",
   "metadata": {},
   "source": [
    "We initialize some matrices to store the results of the algorithms for different numbers of iterations and monte carlo evaluation."
   ]
  },
  {
   "cell_type": "code",
   "execution_count": 5,
   "metadata": {},
   "outputs": [],
   "source": [
    "OPT = Storing_Mat_opt(\"Optimal Solution\", Mysys, n_monte_carlo, len(T))\n",
    "Q = Storing_Mat(\"Q-learning\", Mysys, K0, n_monte_carlo, len(T))\n",
    "MODEL_LEARNING = Storing_Mat(\"Model-learning\", Mysys, K0, n_monte_carlo, len(T))\n",
    "Methods = [Q, MODEL_LEARNING]"
   ]
  },
  {
   "cell_type": "markdown",
   "metadata": {},
   "source": [
    "## Start learning\n",
    "Now, we evaluate the performance of $Q$-learning on the LQ problem. The algorithm is run for the trajectory length given in the `T` array. We also repeat the simulation for `n_monte_carlo` times and report the mean value for the parameters and errors to reduce the effect of randomness on our learning. In practice, you need to use a larger `n_monte_carlo ` than 10. We have chosen 10 to get the results fast. The $Q$-learning algorithm returns the estimated gain $\\bar{K}$. In the second loop below, we compute the finite average cost, infinite average cost, and the error from the exact $K_{opt}$."
   ]
  },
  {
   "cell_type": "code",
   "execution_count": 6,
   "metadata": {},
   "outputs": [
    {
     "name": "stdout",
     "output_type": "stream",
     "text": [
      "Rollout Length: 100, MC trial: 0\n",
      "Q learning\n",
      "Model learning\n",
      "Rollout Length: 100, MC trial: 1\n",
      "Q learning\n",
      "Model learning\n",
      "Rollout Length: 100, MC trial: 2\n",
      "Q learning\n",
      "Model learning\n",
      "Rollout Length: 100, MC trial: 3\n",
      "Q learning\n",
      "Model learning\n",
      "Rollout Length: 100, MC trial: 4\n",
      "Q learning\n",
      "Model learning\n",
      "Rollout Length: 100, MC trial: 5\n",
      "Q learning\n",
      "Model learning\n",
      "Rollout Length: 100, MC trial: 6\n",
      "Q learning\n",
      "Model learning\n",
      "Rollout Length: 100, MC trial: 7\n",
      "Q learning\n",
      "Model learning\n",
      "Rollout Length: 100, MC trial: 8\n",
      "Q learning\n",
      "Model learning\n",
      "Rollout Length: 100, MC trial: 9\n",
      "Q learning\n",
      "Model learning\n"
     ]
    }
   ],
   "source": [
    "for t in range(1, len(T)):\n",
    "    for trial in range(n_monte_carlo):\n",
    "        print('Rollout Length: %d, MC trial: %d' % (T[t], trial))\n",
    "\n",
    "        print('Q learning')\n",
    "        Q.P[:, :, trial, t], Q.K[:, :, trial, t] = My_q_learning.ql(K0, n_iteration, T[t])\n",
    "\n",
    "        print('Model learning')\n",
    "        MODEL_LEARNING.P[:, :, trial, t], MODEL_LEARNING.K[:, :, trial, t] = \\\n",
    "            My_model_learning.nominal_PK(K0, n_iteration, T[t])\n",
    "\n",
    "for t in range(1, len(T)):\n",
    "    for trial in range(n_monte_carlo):\n",
    "        OPT.J_fin[trial, t] = Mysys.cost_finite_average_K(OPT.K, T[t])\n",
    "        for meth in Methods:\n",
    "            meth.J_inf[trial, t] = Mysys.cost_inf_K(meth.K[:, :, trial, t])\n",
    "            meth.J_fin[trial, t] = Mysys.cost_finite_average_K(meth.K[:, :, trial, t], T[t])\n",
    "            meth.Ke[trial, t] = Mysys.dist_from_optimal_K(meth.K[:, :, trial, t])\n",
    "            _, meth.Pe[trial, t] = Mysys.P_and_Pe_associated_to_K(meth.K[:, :, trial, t])\n"
   ]
  },
  {
   "cell_type": "markdown",
   "metadata": {},
   "source": [
    "## Results\n",
    "We plot the result of the simulation here. The first figure shows the fraction of times the algorithm returns stable policies in all iterations. The second figure shows the error between the estimated gain and the optimal gain; $K_e =\\frac{||\\bar{K}-K_{opt}||}{||K_{opt}||}$. The third figure shows the error between the infinite average costs by the estimated controller gain and the optimal controller $K_e =\\frac{||\\bar{J}-J_{opt}||}{||J_{opt}||}$. In all three figures, the zero rollout length refers to the initiation of the algorithm. "
   ]
  },
  {
   "cell_type": "code",
   "execution_count": 7,
   "metadata": {},
   "outputs": [
    {
     "data": {
      "image/png": "[encoded data removed]",
      "text/plain": [
       "<Figure size 648x432 with 1 Axes>"
      ]
     },
     "metadata": {
      "needs_background": "light"
     },
     "output_type": "display_data"
    },
    {
     "data": {
      "image/png": "[encoded data removed]",
      "text/plain": [
       "<Figure size 648x432 with 1 Axes>"
      ]
     },
     "metadata": {
      "needs_background": "light"
     },
     "output_type": "display_data"
    },
    {
     "data": {
      "image/png": "[encoded data removed]",
      "text/plain": [
       "<Figure size 648x432 with 1 Axes>"
      ]
     },
     "metadata": {
      "needs_background": "light"
     },
     "output_type": "display_data"
    }
   ],
   "source": [
    "MyPlot = PLTLIB(OPT.J_inf)\n",
    "J = [meth.J_inf for meth in Methods]\n",
    "Lab = [meth.name for meth in Methods]\n",
    "MyPlot.frac_stable(J, T, n_monte_carlo, Lab, 'Rollout Length')\n",
    "MyPlot.est_e([meth.Ke for meth in Methods], T, Lab, 'Rollout Length', \"Ke\", 1)\n",
    "MyPlot.relative_inf_cost(J, T, Lab, 'Rollout Length', uplim=0.3, zoomplt=False)"
   ]
  },
  {
   "cell_type": "markdown",
   "metadata": {},
   "source": [
    "We print the estimated controller gain with the $Q$-learning and the model-building approach, and compare it with the analytical optimal solution. As you can see, they are pretty close."
   ]
  },
  {
   "cell_type": "code",
   "execution_count": 8,
   "metadata": {},
   "outputs": [
    {
     "name": "stdout",
     "output_type": "stream",
     "text": [
      "\n",
      "The optimal k \n",
      " [[-0.42208244 -1.24392885]]\n",
      "\n",
      "Mean of estimated K using Q-learning \n",
      " [[-0.42277216 -1.25160717]]\n",
      "\n",
      "Mean of estimated K using Model-learning \n",
      " [[-0.42192661 -1.24353888]]\n",
      "\n",
      "Median of Ke using Q-learning 0.01357432413689584\n",
      "\n",
      "Median of Ke using Model-learning 0.0011394349981383386\n"
     ]
    }
   ],
   "source": [
    "print('\\nThe optimal k \\n', OPT.K)\n",
    "for meth in Methods:\n",
    "    print('\\nMean of estimated K using', meth.name, '\\n', np.mean(meth.K[:, :, :, -1], axis=2))\n",
    "\n",
    "for meth in Methods:\n",
    "    print('\\nMedian of Ke using', meth.name, np.median(meth.Ke[:, -1]))"
   ]
  },
  {
   "cell_type": "markdown",
   "metadata": {},
   "source": [
    "The median of $K_e$ will be around $1\\%$. [It has been shown that as the trajectory length encreases, the estimated controller gain converges to the optimal controller.](http://proceedings.mlr.press/v99/tu19a/tu19a.pdf) Moreover, observe that even the simplest model-learning approach performs super good!"
   ]
  },
  {
   "cell_type": "code",
   "execution_count": null,
   "metadata": {},
   "outputs": [],
   "source": []
  }
 ],
 "metadata": {
  "kernelspec": {
   "display_name": "gym",
   "language": "python",
   "name": "gym"
  },
  "language_info": {
   "codemirror_mode": {
    "name": "ipython",
    "version": 3
   },
   "file_extension": ".py",
   "mimetype": "text/x-python",
   "name": "python",
   "nbconvert_exporter": "python",
   "pygments_lexer": "ipython3",
   "version": "3.6.6"
  }
 },
 "nbformat": 4,
 "nbformat_minor": 2
}
