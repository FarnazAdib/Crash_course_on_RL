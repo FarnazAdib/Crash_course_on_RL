{
 "cells": [
  {
   "cell_type": "markdown",
   "metadata": {},
   "source": [
    "# Reinforcement Learning to Control a cartpole\n",
    "\n",
    "We aim to use two basic RL routines; namely _Policy Gradient (PG)_ and $Q$-_learning_ to control a cartpole environment. Before we explain the cartpole environment and the routines, let's prepare your Pycharm Integrated Development Environment (IDE)."
   ]
  },
  {
   "cell_type": "markdown",
   "metadata": {},
   "source": [
    "## Preparation\n",
    "To play with the cartpole example and the RL routines, we need to install a set of libraries like, numpy, tensorflow, gym, etc and to specify their versions. This is to get consistent results, avoid version related errors and most importantly, avoid messing with your current libraries that you use frequently. Let's start!\n",
    "\n",
    "### Creating a virtual environment\n",
    "Follow the following steps to create a virtual environment.\n",
    "* Create a folder on your computer. Preferably NOT on the cload and NOT in the folder related to your python project. Let's call it vir_env. There, build a new folder and name it gym.\n",
    "* Open Pycharm, click File, and then setting.\n",
    "* From the letf menu, select Project and then Python Interpreter\n",
    "* Click the Python Interpreter dropdown menu and select show all.\n",
    "* Click the + sign on the right side of the window.\n",
    "* Select New environment and in the location, navigate to you the folder you just created: vir_env\\gym. Select Python 3.6 for the base interpreter. __Deselect \"inherit global site packages\"__ and __select \"make available to all projects\"__.\n",
    "\n",
    "Now, Python 3.6(gym) should appear in the Python Interpreter list. Select it.\n",
    "\n",
    "### Adding libraries and packages\n",
    "We add the reuired libraries to our Python 3.6(gym) enviornment. When adding a library, remember to specify the version. Before starting adding libraries, double check to see if Python 3.6(gym) is selected in the Python Interpreter. If it is not, click the Python Interpreter dropdown menu and select show all. Then, select Python 3.6(gym). You will see a table with headings: Package, Version, Latest version.\n",
    "\n",
    "To add a library/package, simply click the + sign on the right hand side of the table and type the name of the library. Specify the version if the default is different from what we have here. Sometimes when you install a package some extra libraries/packages are also installed. You then need to check the version of those libraries and correct them if necessary. Add the following\n",
    "\n",
    "| Package | Version | \n",
    "| :- | :- |\n",
    "| gym | 0.17.3 |\n",
    "| tensorflow | 2.3.1 |\n",
    "| numpy | 1.18.5 |\n",
    "| scipy | 1.4.1 |\n",
    "| DateTime | 4.3 |\n",
    "\n"
   ]
  },
  {
   "cell_type": "markdown",
   "metadata": {},
   "source": [
    "## Cartpole environment\n",
    "We consider the classical control problem of a cartpole, see [barto83](http://www.derongliu.org/adp/adp-cdrom/Barto1983.pdf) for the cartpole dynamics. A pole is attached by an un-actuated joint to a cart, which moves along a frictionless track. The system is controlled by applying a force of +1 or -1 to the cart. The pendulum starts upright, and the goal is to prevent it from falling over. A reward of +1 is provided for every timestep that the pole remains upright. The episode continues for a maximum of 200 steps and it ends when the pole is more than 15 degrees from vertical, or the cart moves more than 2.4 units from the center. We use the [cartpole environment provided by OpenAI GYM](https://gym.openai.com/envs/CartPole-v0/). \n",
    "\n",
    "### Solvability Criterion\n",
    "The CartPole-v0 defines \"solving\" as getting average sum reward of 195.0 over 100 consecutive trials."
   ]
  },
  {
   "cell_type": "code",
   "execution_count": null,
   "metadata": {},
   "outputs": [],
   "source": []
  }
 ],
 "metadata": {
  "kernelspec": {
   "display_name": "Python 3",
   "language": "python",
   "name": "python3"
  },
  "language_info": {
   "codemirror_mode": {
    "name": "ipython",
    "version": 3
   },
   "file_extension": ".py",
   "mimetype": "text/x-python",
   "name": "python",
   "nbconvert_exporter": "python",
   "pygments_lexer": "ipython3",
   "version": "3.6.5"
  }
 },
 "nbformat": 4,
 "nbformat_minor": 2
}
