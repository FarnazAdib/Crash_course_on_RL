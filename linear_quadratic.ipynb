{
 "cells": [
  {
   "cell_type": "markdown",
   "metadata": {},
   "source": [
    "# Linear Quadratic control\n",
    "_Linear Quadratic (LQ)_ problem is a classical control problem where the dynamical system obeys a linear dynamics and the cost function to be minimized is quadratic. "
   ]
  },
  {
   "cell_type": "markdown",
   "metadata": {},
   "source": [
    "## Dynamics\n",
    "We consider a linear Gaussian dynamical system\n",
    "\\begin{align}\n",
    "&x_{k+1}=A x_{k}+B u_k+ w_k\n",
    "\\label{Eq:x},\n",
    "\\end{align}\n",
    "\n",
    "where $x_k \\in \\mathbb{R}^{n}$ and $u_k \\in \\mathbb{R}^{m}$ are the state and the control input vectors respectively. The vector $w_k \\in \\mathbb{R}^{n}$ denotes the process noise drawn i.i.d. from a Gaussian distribution $\\mathcal{N}(\\textbf{0},W_w)$.\n",
    "\n"
   ]
  },
  {
   "cell_type": "markdown",
   "metadata": {},
   "source": [
    "## Reward \n",
    "We define the  _quadratic running cost_ as\n",
    "\\begin{align}\n",
    "r(y_k,u_k)=y_k^T R_y y_k+u_k^T R_u u_k\n",
    "\\label{Eq:RunCost}\n",
    "\\end{align}\n",
    "where $R_y \\geq 0$ and $R_u>0$ are the output and the control weighting matrices respectively. The _average cost associated with the policy $u_k=K y_k$_ is defined by\n",
    "\\begin{align}\n",
    "\\lambda(K)=\\lim_{\\tau \\rightarrow \\infty} \\frac{1}{\\tau} \\mathbf{E}[ \\sum_{t=1}^{\\tau} r(y_t,K y_t) ]\n",
    "\\label{Eq:Lam:pi}\n",
    "\\end{align}\n",
    "which does not depend on the initial state of the system. For the linear system, we define the \\textit{value function} associated with a given policy $u_k=K y_k$\n",
    "\\begin{align}\n",
    "V(y_k,K)=\\mathbf{E}[\\sum_{t=k}^{+\\infty} (r(y_t,K y_t)-\\lambda(K)) | y_k].\n",
    "\\label{Eq:V:differntial}\n",
    "\\end{align}"
   ]
  },
  {
   "cell_type": "markdown",
   "metadata": {},
   "source": [
    "## Solvability Criterion\n",
    "The problem is solved if the controller policy $K^* y_k$ minimizes $V(y_k, K)$."
   ]
  },
  {
   "cell_type": "markdown",
   "metadata": {},
   "source": [
    "## Why the LQ is an interesting setup?\n",
    "But why do we consider to solve an LQ problem with RL when we can simply estimate the linear model?\n",
    "\n",
    "* The LQ problem has a celebrated closed-form solution. It is an ideal benchmark for studying the RL algorithms because we know the exact analytical solution so we can see how good is an RL algorithm.\n",
    "* It is theoretically tractable.\n",
    "* It is practical in various engineering domains."
   ]
  },
  {
   "cell_type": "markdown",
   "metadata": {},
   "source": [
    "## Reinforcement Learning to Control a cartpole\n",
    "We apply two basic RL routines; namely _Policy Gradient (PG)_ and $Q$-_learning_ for the LQ problem. The model-\n",
    "Here is a list of related fiels to study:\n",
    "\n",
    "* [Prepare a virtual environment.](Preparation.ipynb) If you have prepared the virtual environment previously, skip this step but remember to select it as the Kernel when running code in Jupyter notebook.\n",
    "* [Policy Gradient on LQ](pg_on_lq_notebook.ipynb)\n",
    "* [$Q$-learning on LQ](q_on_lq_notebook.ipynb)"
   ]
  },
  {
   "cell_type": "code",
   "execution_count": null,
   "metadata": {},
   "outputs": [],
   "source": []
  }
 ],
 "metadata": {
  "kernelspec": {
   "display_name": "Python 3",
   "language": "python",
   "name": "python3"
  },
  "language_info": {
   "codemirror_mode": {
    "name": "ipython",
    "version": 3
   },
   "file_extension": ".py",
   "mimetype": "text/x-python",
   "name": "python",
   "nbconvert_exporter": "python",
   "pygments_lexer": "ipython3",
   "version": "3.6.5"
  }
 },
 "nbformat": 4,
 "nbformat_minor": 2
}
