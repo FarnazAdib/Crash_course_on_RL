{
 "cells": [
  {
   "cell_type": "markdown",
   "metadata": {},
   "source": [
    "The best way to work with tensorboard is to open it from terminal in pycharm because you have activated the environment.\n",
    "So, go to the terminal in pycharm.\n",
    "write the following:\n",
    "\n",
    "tensorboard --logdir \\tmp\\cartpole_exp1\\PGCartPole_161020201047\n",
    "\n",
    "you can see that above, we have specified the directory we have written our summary."
   ]
  }
 ],
 "metadata": {
  "kernelspec": {
   "display_name": "Python 3",
   "language": "python",
   "name": "python3"
  },
  "language_info": {
   "codemirror_mode": {
    "name": "ipython",
    "version": 3
   },
   "file_extension": ".py",
   "mimetype": "text/x-python",
   "name": "python",
   "nbconvert_exporter": "python",
   "pygments_lexer": "ipython3",
   "version": "3.6.5"
  }
 },
 "nbformat": 4,
 "nbformat_minor": 2
}
