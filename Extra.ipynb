{
 "cells": [
  {
   "cell_type": "markdown",
   "metadata": {},
   "source": [
    "## 1.  Value and $Q$- functions \n",
    "Value and $Q$-functions define the value of a state or a state-action pair if we start from that state or state-action pair.\n",
    "\n",
    "### 1.1 The value function\n",
    "The _value function_ associated with the policy $\\pi$ is defined by\n",
    "\n",
    "\\begin{align}\n",
    "\\large\n",
    "V^{\\pi}(s) = \\mathbf{E}_{\\tau \\sim \\pi}\\sum_{k=0}^{\\infty} [\\gamma^{k} r_k]\n",
    "\\end{align}\n",
    "\n",
    "where\n",
    "* $\\large \\pi$ is the policy. \n",
    "* $\\large \\tau$ is a trajectory sampled from the environment starting from $s$ and following the policy $\\pi$. \n",
    "* $r_k=r(s_k,a_k)$ is the immediate reward.\n",
    "* $0 \\leq \\gamma \\leq 1$ is the forgetting factor.\n",
    "* Expectation is defined over the probability of the trajectory\n",
    "\n",
    "Let $s^{\\prime}$ defines the successive state after $s$. Using the Bellman principle of optimality, the bellman equation for the value function reads\n",
    "\n",
    "\\begin{align}\n",
    "\\large\n",
    "V^{\\pi}(s) = r_t + \\gamma \\: \\mathbf{E}_{\\tau \\sim \\pi_{\\theta}}[V^{\\pi}(s^{\\prime})]\n",
    "\\end{align}"
   ]
  }
 ],
 "metadata": {
  "kernelspec": {
   "display_name": "gym",
   "language": "python",
   "name": "gym"
  },
  "language_info": {
   "codemirror_mode": {
    "name": "ipython",
    "version": 3
   },
   "file_extension": ".py",
   "mimetype": "text/x-python",
   "name": "python",
   "nbconvert_exporter": "python",
   "pygments_lexer": "ipython3",
   "version": "3.6.6"
  }
 },
 "nbformat": 4,
 "nbformat_minor": 2
}
